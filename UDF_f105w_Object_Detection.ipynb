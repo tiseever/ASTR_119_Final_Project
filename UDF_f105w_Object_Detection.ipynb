{
 "cells": [
  {
   "cell_type": "markdown",
   "metadata": {},
   "source": [
    "# Do the same thing for the UDF_f105w.fits file as for the sep_tutorial"
   ]
  },
  {
   "cell_type": "code",
   "execution_count": null,
   "metadata": {},
   "outputs": [],
   "source": [
    "import sep\n",
    "from astropy.io import fits\n",
    "import numpy as np\n",
    "import matplotlib.pyplot as plt\n",
    "from astropy.utils.data import download_file\n",
    "from matplotlib.patches import Ellipse\n",
    "from astropy import visualization as vis\n",
    "%matplotlib inline"
   ]
  },
  {
   "cell_type": "code",
   "execution_count": null,
   "metadata": {},
   "outputs": [],
   "source": [
    "f105w = download_file('https://archive.stsci.edu/pub/hlsp/hudf12/hlsp_hudf12_hst_wfc3ir_udfmain_f105w_v1.0_drz.fits')\n",
    "hdul = fits.open(f105w)\n",
    "data = hdul[0].data\n",
    "hdul.close()"
   ]
  },
  {
   "cell_type": "code",
   "execution_count": null,
   "metadata": {},
   "outputs": [],
   "source": [
    "# I will define functions for everything to make the code as compressible as possible.\n",
    "# This function will do a basic plot of the FITS file\n",
    "def FITS_plotter(array,figsz,interpol,cmp,orig,save_file_name):\n",
    "    m, s = np.mean(array), np.std(data)\n",
    "    plt.figure(figsize=figsz)\n",
    "    plt.imshow(array, interpolation=interpol, cmap=cmp, vmin=m-s, vmax=m+s, origin=orig)\n",
    "    plt.colorbar()\n",
    "    plt.savefig(save_file_name);"
   ]
  },
  {
   "cell_type": "code",
   "execution_count": null,
   "metadata": {},
   "outputs": [],
   "source": [
    "FITS_plotter(data,(15,15),'nearest','gray','lower','f105w_direct.png')"
   ]
  },
  {
   "cell_type": "markdown",
   "metadata": {},
   "source": [
    "## Background Subtraction and Object Detection"
   ]
  },
  {
   "cell_type": "code",
   "execution_count": null,
   "metadata": {},
   "outputs": [],
   "source": [
    "data = data.byteswap(inplace=True).newbyteorder()"
   ]
  },
  {
   "cell_type": "code",
   "execution_count": null,
   "metadata": {},
   "outputs": [],
   "source": [
    "# Create a function containing all of the data needed for the background\n",
    "# subtraction and object detection.\n",
    "def Object_Data():\n",
    "    \n",
    "    # Define the variables that will be used in a class later as global\n",
    "    global v, bkg, bkg_back, bkg_rms, gback, grms, data_sub, adata_sub, aobjects, sxt, aflux, afluxerr, aflag\n",
    "    \n",
    "    # This will be used to provide for the m, s in the plots and for the background\n",
    "    # and rms images.\n",
    "    bkg = sep.Background(data, bw=16, bh=16)\n",
    "    data_sub = data - bkg\n",
    "    bkg_back = bkg.back()\n",
    "    bkg_rms = bkg.rms()\n",
    "    \n",
    "    # The data will be turned into integer slices\n",
    "    ndata = {}\n",
    "    v = 0\n",
    "    for i in range(36):\n",
    "        for n in range(36):\n",
    "            ndata[36*i + n] = data[100*i:100*i+100:1,100*n:100*n+100:1]\n",
    "            v += 1\n",
    "    \n",
    "    # This line converts the dict to an array\n",
    "    adata = np.array(list(ndata.values()))\n",
    "    \n",
    "    # This section will define the values for the global background, global rms, and the data\n",
    "    # array with the background subtracted.\n",
    "    ndata_sub = {}\n",
    "    gback = {}\n",
    "    grms = {}\n",
    "    for i in range(v):\n",
    "        ndata_sub[i] = adata[i] - sep.Background(adata[i], bw=32, bh=32)\n",
    "        gback[i] = sep.Background(adata[i], bw=32, bh=32).globalback\n",
    "        grms[i] = sep.Background(adata[i], bw=32, bh=32).globalrms\n",
    "    adata_sub = np.array(list(ndata_sub.values()))\n",
    "\n",
    "    # Convert the gback and grms dicts into arrays\n",
    "    agback = np.array(list(gback.values()))\n",
    "    agrms = np.array(list(grms.values()))\n",
    "    \n",
    "    # Take the average of all of the relevant grms values\n",
    "    u = 0\n",
    "    for i in range(v):\n",
    "        if(agrms[i]==1):\n",
    "            u += 1\n",
    "        else:\n",
    "            continue\n",
    "    Avg_agrms = (sum(agrms)-u)/(v-u)\n",
    "                    \n",
    "    # Place the raw sep.extract data into the sxt dict and the len(sep.extract) data into an objects dict\n",
    "    objects = {}\n",
    "    sxt = {}\n",
    "    for i in range(v):\n",
    "        try:\n",
    "            p = np.exp(agrms[i]/Avg_agrms)\n",
    "        except:\n",
    "            p = 1\n",
    "        q = sep.extract(adata_sub[i], p, err=sep.Background(adata[i], bw=32, bh=32).globalrms)\n",
    "        sxt[i] = sep.extract(adata_sub[i], p, err=sep.Background(adata[i], bw=32, bh=32).globalrms)\n",
    "        if(len(q)>30):\n",
    "            q = sep.extract(adata_sub[i], 30*p, err=sep.Background(adata[i], bw=32, bh=32).globalrms)\n",
    "        objects[i] = len(q)\n",
    "    aobjects = np.array(list(objects.values()))\n",
    "    \n",
    "    dflux = {}\n",
    "    dfluxerr = {}\n",
    "    dflag = {}\n",
    "\n",
    "    for n in range(1296):\n",
    "        dflux[n], dfluxerr[n], dflag[n] = sep.sum_circle(adata_sub[n],sxt[n]['x'],sxt[n]['y'],np.exp(agrms[n]/Avg_agrms)\\\n",
    "                                                     ,err=agrms[n], gain=1.0)\n",
    "\n",
    "    aflux = np.array(list(dflux.values()))\n",
    "    afluxerr = np.array(list(dfluxerr.values()))\n",
    "    aflag = np.array(list(dflag.values()))\n",
    "    # Return the arrays and values\n",
    "    return v, gback, grms, data_sub, adata_sub, aobjects, sxt, aflux, afluxerr, aflag"
   ]
  },
  {
   "cell_type": "code",
   "execution_count": null,
   "metadata": {},
   "outputs": [],
   "source": [
    "Object_Data()"
   ]
  },
  {
   "cell_type": "code",
   "execution_count": null,
   "metadata": {},
   "outputs": [],
   "source": [
    "# Now to define a class containing all of the functions that will be used for object\n",
    "# detection.\n",
    "class Object_Detection():\n",
    "    def printer():\n",
    "        for i in range(v):\n",
    "            print('i:',i)\n",
    "            print('\\t','Global background:',gback[i])\n",
    "            print('\\t','Global rms:       ',grms[i])\n",
    "            \n",
    "    # Since plot_back and plot_rms don't need to be sliced, bkg.back and bkg.rms will\n",
    "    # be plotted.\n",
    "    def plot_back(figsz,interpol,cmp,orig,save_file_name):\n",
    "        plt.figure(figsize=figsz)\n",
    "        plt.imshow(bkg_back, interpolation=interpol, cmap=cmp, origin=orig)\n",
    "        plt.colorbar()\n",
    "        plt.savefig(save_file_name)\n",
    "                      \n",
    "    def plot_rms(figsz,interpol,cmp,orig,save_file_name):\n",
    "        plt.figure(figsize=figsz)\n",
    "        plt.imshow(bkg_rms, interpolation=interpol, cmap=cmp, origin=orig)\n",
    "        plt.colorbar()\n",
    "        plt.savefig(save_file_name)\n",
    "        \n",
    "    def object_detector(figsz,interpol,cmp,orig,save_file_name):\n",
    "        im = {}\n",
    "        fig, ax = plt.subplots(ncols=36, nrows=36, figsize=figsz)\n",
    "        fig.subplots_adjust(hspace=0, wspace=0)\n",
    "        w = 0\n",
    "        z = 0\n",
    "        m, s = np.mean(data_sub), np.std(data_sub)\n",
    "        for n in range(v):\n",
    "            im[n] = ax[36-z-1,w].imshow(adata_sub[n], interpolation=interpol, cmap=cmp, vmin=m-s, vmax=m+s, origin=orig)\n",
    "            ax[36-z-1,w].axis('off')\n",
    "    \n",
    "            if(aobjects[n]>=25):\n",
    "                if(w==36-1):\n",
    "                    w = 0\n",
    "                    z += 1\n",
    "                else:\n",
    "                    w += 1\n",
    "            else:\n",
    "                for i in range(aobjects[n]):\n",
    "                    try:\n",
    "                        if(aflux[n][i]<=0.05):\n",
    "                            continue\n",
    "                        else:\n",
    "                            try:\n",
    "                                e = Ellipse(xy=(sxt[n]['x'][i], sxt[n]['y'][i]),width=6*sxt[n]['a'][i],height=6*sxt[n]['b'][i],\\\n",
    "                                            angle=sxt[n]['theta'][i]*180/(2*np.pi))\n",
    "                            except:\n",
    "                                continue\n",
    "                            e.set_facecolor('none')\n",
    "                            e.set_edgecolor('red')\n",
    "                            ax[35-z,w].add_artist(e)\n",
    "                    except:\n",
    "                        try:\n",
    "                            e = Ellipse(xy=(sxt[n]['x'][i], sxt[n]['y'][i]),width=6*sxt[n]['a'][i],height=6*sxt[n]['b'][i],\\\n",
    "                                angle=sxt[n]['theta'][i]*180/(2*np.pi))\n",
    "                        except:\n",
    "                            continue\n",
    "                        e.set_facecolor('none')\n",
    "                        e.set_edgecolor('red')\n",
    "                        ax[35-z,w].add_artist(e)\n",
    "                if(w==36-1):\n",
    "                    w = 0\n",
    "                    z += 1\n",
    "                else:\n",
    "                    w += 1\n",
    "        plt.savefig(save_file_name)"
   ]
  },
  {
   "cell_type": "code",
   "execution_count": null,
   "metadata": {},
   "outputs": [],
   "source": [
    "# Now that the class is defined, lets start with the printer function.\n",
    "Object_Detection.printer()"
   ]
  },
  {
   "cell_type": "code",
   "execution_count": null,
   "metadata": {},
   "outputs": [],
   "source": [
    "# Now for the background image\n",
    "Object_Detection.plot_back((15,15),'nearest','gray','lower','f105w_back.png')"
   ]
  },
  {
   "cell_type": "code",
   "execution_count": null,
   "metadata": {},
   "outputs": [],
   "source": [
    "Object_Detection.plot_rms((15,15),'nearest','gray','lower','f105w_rms.png')"
   ]
  },
  {
   "cell_type": "code",
   "execution_count": null,
   "metadata": {},
   "outputs": [],
   "source": [
    "Object_Detection.object_detector((15,15),'nearest','gray','lower','f105w_final.png')"
   ]
  },
  {
   "cell_type": "markdown",
   "metadata": {},
   "source": [
    "### There are 2526 objects in this image, with uncertainty due to high noise around the border, the same objects being detected multiple times on slice boundaries, and the inability to differentiate low noise from especially faint objects in certain regions."
   ]
  },
  {
   "cell_type": "markdown",
   "metadata": {},
   "source": [
    "## Aperature Photometry and HIstogram"
   ]
  },
  {
   "cell_type": "code",
   "execution_count": null,
   "metadata": {},
   "outputs": [],
   "source": [
    "fluxes = np.concatenate(aflux)\n",
    "fluxerrs = np.concatenate(afluxerr)\n",
    "flags = np.concatenate(aflag)"
   ]
  },
  {
   "cell_type": "code",
   "execution_count": null,
   "metadata": {},
   "outputs": [],
   "source": [
    "for i in range(10):\n",
    "    print(\"object {:d}: flux = {:f} +/- {:f}\".format(i,fluxes[i],fluxerrs[i]))"
   ]
  },
  {
   "cell_type": "markdown",
   "metadata": {},
   "source": [
    "### There is a difference between the number of objects and the number of fluxes as shown below. This is likely due to the detection of an object multiple times along the boundaries of the slices."
   ]
  },
  {
   "cell_type": "code",
   "execution_count": null,
   "metadata": {},
   "outputs": [],
   "source": [
    "print('Fluxes: ',len(fluxes))\n",
    "print('Objects:',np.sum(aobjects))"
   ]
  },
  {
   "cell_type": "code",
   "execution_count": null,
   "metadata": {},
   "outputs": [],
   "source": [
    "# The main plot is all of the fluxes, while the image at the top right is a magnification of the bottom left corner.\n",
    "# This is done to give a better view of the low flux values that are otherwise unseen due to the high fluxes.\n",
    "ax1 = plt.figure(figsize=(15,15)), plt.axes()\n",
    "ax1 = vis.hist(fluxes,5092,range=(0,5))\n",
    "ax2 = plt.axes([0.55, 0.55, 0.3, 0.3])\n",
    "ax2 = vis.hist(fluxes,5092,range=(0,0.5))"
   ]
  },
  {
   "cell_type": "code",
   "execution_count": null,
   "metadata": {},
   "outputs": [],
   "source": []
  }
 ],
 "metadata": {
  "kernelspec": {
   "display_name": "Python 3",
   "language": "python",
   "name": "python3"
  },
  "language_info": {
   "codemirror_mode": {
    "name": "ipython",
    "version": 3
   },
   "file_extension": ".py",
   "mimetype": "text/x-python",
   "name": "python",
   "nbconvert_exporter": "python",
   "pygments_lexer": "ipython3",
   "version": "3.6.6"
  }
 },
 "nbformat": 4,
 "nbformat_minor": 2
}
