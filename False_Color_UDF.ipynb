{
 "cells": [
  {
   "cell_type": "code",
   "execution_count": null,
   "metadata": {},
   "outputs": [],
   "source": [
    "from astropy.io import fits\n",
    "import numpy as np\n",
    "import matplotlib.pyplot as plt\n",
    "from astropy.utils.data import download_file\n",
    "from astropy.visualization import make_lupton_rgb\n",
    "import matplotlib.colors as colors\n",
    "%matplotlib inline"
   ]
  },
  {
   "cell_type": "code",
   "execution_count": null,
   "metadata": {},
   "outputs": [],
   "source": [
    "f105w = download_file('https://archive.stsci.edu/pub/hlsp/hudf12/hlsp_hudf12_hst_wfc3ir_udfmain_f105w_v1.0_drz.fits')\n",
    "hdul1 = fits.open(f105w)\n",
    "data1 = hdul1[0].data\n",
    "hdul1.close()"
   ]
  },
  {
   "cell_type": "code",
   "execution_count": null,
   "metadata": {},
   "outputs": [],
   "source": [
    "f125w = download_file('https://archive.stsci.edu/pub/hlsp/hudf12/hlsp_hudf12_hst_wfc3ir_udfmain_f125w_v1.0_drz.fits')\n",
    "hdul2 = fits.open(f105w)\n",
    "data2 = hdul2[0].data\n",
    "hdul2.close()"
   ]
  },
  {
   "cell_type": "code",
   "execution_count": null,
   "metadata": {},
   "outputs": [],
   "source": [
    "f160w = download_file('https://archive.stsci.edu/pub/hlsp/hudf12/hlsp_hudf12_hst_wfc3ir_udfmain_f160w_v1.0_drz.fits')\n",
    "hdul3 = fits.open(f160w)\n",
    "data3 = hdul3[0].data\n",
    "hdul3.close()"
   ]
  },
  {
   "cell_type": "code",
   "execution_count": null,
   "metadata": {},
   "outputs": [],
   "source": [
    "rgb_default = make_lupton_rgb(data1, data2, data3, stretch=0.1, filename=\"UDF.png\")\n",
    "plt.figure(figsize=(15,15))\n",
    "plt.imshow(rgb_default, origin='lower');"
   ]
  },
  {
   "cell_type": "code",
   "execution_count": null,
   "metadata": {},
   "outputs": [],
   "source": [
    "rgb_min = rgb_default[:,:,0].min()\n",
    "rgb_max = rgb_default[:,:,0].max()\n",
    "\n",
    "v = (rgb_default[:,:,0] - rgb_min)/(rgb_max - rgb_min)\n",
    "s = 1.0 - v"
   ]
  },
  {
   "cell_type": "code",
   "execution_count": null,
   "metadata": {},
   "outputs": [],
   "source": [
    "hsv_default = colors.hsv_to_rgb(rgb_default)\n",
    "hsv_min = hsv_default[:,:,0].min()\n",
    "hsv_max = hsv_default[:,:,0].max()\n",
    "\n",
    "h = 0.7 - 0.7*(hsv_default[:,:,0] - hsv_min)/(hsv_max - hsv_min)"
   ]
  },
  {
   "cell_type": "code",
   "execution_count": null,
   "metadata": {},
   "outputs": [],
   "source": [
    "hsv_image = np.zeros((3600,3600,3))\n",
    "\n",
    "hsv_image[:,:,0] = h\n",
    "hsv_image[:,:,1] = s\n",
    "hsv_image[:,:,2] = v\n",
    "\n",
    "rgb_image = colors.hsv_to_rgb(hsv_image)"
   ]
  },
  {
   "cell_type": "code",
   "execution_count": null,
   "metadata": {},
   "outputs": [],
   "source": [
    "norm = colors.Normalize(vmin=0,vmax=1)"
   ]
  },
  {
   "cell_type": "code",
   "execution_count": null,
   "metadata": {},
   "outputs": [],
   "source": [
    "plt.figure(figsize=(15,15))\n",
    "plt.imshow(rgb_image, origin='lower', norm=norm)\n",
    "plt.colorbar()\n",
    "plt.savefig(\"UDF_color_shifted.png\");"
   ]
  },
  {
   "cell_type": "code",
   "execution_count": null,
   "metadata": {},
   "outputs": [],
   "source": []
  }
 ],
 "metadata": {
  "kernelspec": {
   "display_name": "Python 3",
   "language": "python",
   "name": "python3"
  },
  "language_info": {
   "codemirror_mode": {
    "name": "ipython",
    "version": 3
   },
   "file_extension": ".py",
   "mimetype": "text/x-python",
   "name": "python",
   "nbconvert_exporter": "python",
   "pygments_lexer": "ipython3",
   "version": "3.6.6"
  }
 },
 "nbformat": 4,
 "nbformat_minor": 2
}
